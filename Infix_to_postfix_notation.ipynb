{
  "cells": [
    {
      "cell_type": "markdown",
      "metadata": {
        "id": "uPFPtHankgU8"
      },
      "source": [
        "# Project Description:\n",
        "\n",
        "The purpose of this project is to implement a neural network that performs the translation of mathematical formulae from traditional **infix notation**—where the operator appears between two operands—to **postfix** (also known as Reverse Polish Notation), where the operator follows the operands.\n",
        "\n",
        "Infix notation is the most commonly used in human-readable mathematics (e.g., a + b), but it is inherently ambiguous without additional syntactic aids such as parentheses or operator precedence rules. This ambiguity arises because different parse trees can correspond to the same expression depending on how operations are grouped.\n",
        "\n",
        "In contrast, postfix notation eliminates the need for parentheses entirely. The order of operations is explicitly encoded by the position of the operators relative to the operands, making it more suitable for stack-based evaluation and easier to parse programmatically.\n",
        "\n",
        "**Example:**\n",
        "\n",
        "Consider the ambiguous infix expression:\n",
        "a + b * c\n",
        "\n",
        "This expression can be parsed in at least two different ways:\n",
        "\n",
        "Interpretation (Infix):\t(a + b) * c\t   \n",
        "Equivalent Postfix: ab+c*\n",
        "\n",
        "Interpretation (Infix):\ta + (b * c)\t          \n",
        "Equivalent Postfix: abc*+\n",
        "\n",
        "\n",
        "This project aims to learn such disambiguations and generate the correct postfix form from a given infix expression using a data-driven approach based on neural networks. To simplify the task and control the complexity of expressions, we restrict our dataset to formulae with a maximum syntactic depth of 3. This means that the abstract syntax trees representing these expressions will have at most three levels, ensuring that the neural network operates on a bounded and manageable set of possible structures."
      ]
    },
    {
      "cell_type": "code",
      "execution_count": 1,
      "metadata": {
        "id": "i_tRkF6n6smU"
      },
      "outputs": [],
      "source": [
        "import numpy as np\n",
        "import random\n",
        "import string\n",
        "import tensorflow as tf\n",
        "from tensorflow.keras import layers, models"
      ]
    },
    {
      "cell_type": "markdown",
      "metadata": {
        "id": "QFSHpEHjpa1x"
      },
      "source": [
        "We build formulae using 5 identifiers a,b,c,d,e and 4 binary operators +,-,*,/.\n",
        "For simplicity we do not take advantage of precedence or associativity rules for infix notation, and suppose that all binary operations as always fully parenthesizes: (e1 op e2)."
      ]
    },
    {
      "cell_type": "code",
      "execution_count": 2,
      "metadata": {
        "id": "IINM81OK61pH"
      },
      "outputs": [],
      "source": [
        "# -------------------- Constants --------------------\n",
        "OPERATORS = ['+', '-', '*', '/']\n",
        "IDENTIFIERS = list('abcde')\n",
        "SPECIAL_TOKENS = ['PAD', 'SOS', 'EOS']\n",
        "SYMBOLS = ['(', ')', '+', '-', '*', '/']\n",
        "VOCAB = SPECIAL_TOKENS + SYMBOLS + IDENTIFIERS + ['JUNK'] #may use junk in autoregressive generation\n",
        "\n",
        "token_to_id = {tok: i for i, tok in enumerate(VOCAB)}\n",
        "id_to_token = {i: tok for tok, i in token_to_id.items()}\n",
        "VOCAB_SIZE = len(VOCAB)\n",
        "PAD_ID = token_to_id['PAD']\n",
        "EOS_ID = token_to_id['EOS']\n",
        "SOS_ID = token_to_id['SOS']\n",
        "\n",
        "MAX_DEPTH = 3\n",
        "MAX_LEN = 4*2**MAX_DEPTH -2 #enough to fit expressions at given depth (+ EOS)"
      ]
    },
    {
      "cell_type": "code",
      "execution_count": 3,
      "metadata": {
        "id": "T-fO911d6_FW"
      },
      "outputs": [],
      "source": [
        "# -------------------- Expression Generation --------------------\n",
        "def generate_infix_expression(max_depth):\n",
        "    if max_depth == 0:\n",
        "        return random.choice(IDENTIFIERS)\n",
        "    elif random.random() < 0.5:\n",
        "        return generate_infix_expression(max_depth - 1)\n",
        "    else:\n",
        "        left = generate_infix_expression(max_depth - 1)\n",
        "        right = generate_infix_expression(max_depth - 1)\n",
        "        op = random.choice(OPERATORS)\n",
        "        return f'({left} {op} {right})'\n",
        "\n",
        "def tokenize(expr):\n",
        "    return [c for c in expr if c in token_to_id]\n",
        "\n",
        "def infix_to_postfix(tokens):\n",
        "    precedence = {'+': 1, '-': 1, '*': 2, '/': 2}\n",
        "    output, stack = [], []\n",
        "    for token in tokens:\n",
        "        if token in IDENTIFIERS:\n",
        "            output.append(token)\n",
        "        elif token in OPERATORS:\n",
        "            while stack and stack[-1] in OPERATORS and precedence[stack[-1]] >= precedence[token]:\n",
        "                output.append(stack.pop())\n",
        "            stack.append(token)\n",
        "        elif token == '(':\n",
        "            stack.append(token)\n",
        "        elif token == ')':\n",
        "            while stack and stack[-1] != '(':\n",
        "                output.append(stack.pop())\n",
        "            stack.pop()\n",
        "    while stack:\n",
        "        output.append(stack.pop())\n",
        "    return output\n",
        "\n",
        "def encode(tokens, max_len=MAX_LEN):\n",
        "    ids = [token_to_id[t] for t in tokens] + [EOS_ID]\n",
        "    return ids + [PAD_ID] * (max_len - len(ids))\n",
        "\n",
        "def decode_sequence(token_ids, id_to_token, pad_token='PAD', eos_token='EOS'):\n",
        "    \"\"\"\n",
        "    Converts a list of token IDs into a readable string by decoding tokens.\n",
        "    Stops at the first EOS token if present, and ignores PAD tokens.\n",
        "    \"\"\"\n",
        "    tokens = []\n",
        "    for token_id in token_ids:\n",
        "        token = id_to_token.get(token_id, '?')\n",
        "        if token == eos_token:\n",
        "            break\n",
        "        if token != pad_token:\n",
        "            tokens.append(token)\n",
        "    return ' '.join(tokens)\n",
        "\n",
        "def generate_dataset(n,max_depth=MAX_DEPTH):\n",
        "    X, Y = [], []\n",
        "    for _ in range(n):\n",
        "        expr = generate_infix_expression(MAX_DEPTH)\n",
        "        #expr = expr_gen.generate(max_depth=max_dthep)\n",
        "        infix = tokenize(expr)\n",
        "        postfix = infix_to_postfix(infix)\n",
        "        X.append(encode(infix))\n",
        "        Y.append(encode(postfix))\n",
        "    return np.array(X), np.array(Y)\n",
        "\n",
        "#you might use the shift function for teacher-forcing\n",
        "def shift_right(seqs):\n",
        "    shifted = np.zeros_like(seqs)\n",
        "    shifted[:, 1:] = seqs[:, :-1]\n",
        "    shifted[:, 0] = SOS_ID\n",
        "    return shifted"
      ]
    },
    {
      "cell_type": "markdown",
      "metadata": {
        "id": "DENVmP3Jq5Zf"
      },
      "source": [
        "Let us define a simple dataset, and inspect a few samples."
      ]
    },
    {
      "cell_type": "code",
      "execution_count": null,
      "metadata": {
        "id": "gdlonKn47dE7"
      },
      "outputs": [],
      "source": [
        "X_train, Y_train = generate_dataset(12000)\n",
        "decoder_input_train = shift_right(Y_train)\n",
        "\n",
        "# Dataset\n",
        "X_val, Y_val = generate_dataset(1000)\n",
        "decoder_input_val = shift_right(Y_val)\n",
        "\n",
        "Y_train_target = np.expand_dims(Y_train, -1)\n",
        "Y_val_target = np.expand_dims(Y_val, -1)"
      ]
    },
    {
      "cell_type": "code",
      "execution_count": null,
      "metadata": {
        "colab": {
          "base_uri": "https://localhost:8080/"
        },
        "id": "TogClrT6F2Th",
        "outputId": "2b22d0a5-e13f-4b9f-d431-cd68e84eb3b0"
      },
      "outputs": [
        {
          "output_type": "stream",
          "name": "stdout",
          "text": [
            "9300\n",
            "infix :  ( d - e )\n",
            "posfix notation:  d e -\n",
            "teacher forcing :  SOS d e -\n"
          ]
        }
      ],
      "source": [
        "i =  np.random.randint(10000)\n",
        "print(i)\n",
        "print(\"infix : \",decode_sequence(X_train[i],id_to_token))\n",
        "print(\"posfix notation: \",decode_sequence(Y_train[i],id_to_token))\n",
        "print(\"teacher forcing : \", decode_sequence(decoder_input_train[i],id_to_token))"
      ]
    },
    {
      "cell_type": "markdown",
      "source": [
        "# Model Creation - RNN with attention layer"
      ],
      "metadata": {
        "id": "MWKdHCmBa7hC"
      }
    },
    {
      "cell_type": "markdown",
      "source": [
        "We design an encoder-decoder model using recurrent neural networks with an integrated attention mechanism.\n",
        "\n",
        "Although Transformer-based models have become state-of-the-art for many NLP tasks due to their capacity for handling long-range dependencies and parallel processing, our task — converting symbolic formulas (e.g., infix to postfix) — involves sequences of limited length, bounded by a maximum depth of 3. Therefore, the high capacity of Transformers is unnecessary and would introduce additional computational overhead without significant performance gain.\n",
        "\n",
        "Recurrent neural networks, particularly in an encoder-decoder configuration, are well-suited for handling short sequences and learning sequential transformations. To further enhance the model’s capacity, we incorporate an attention mechanism. Even in short sequences, attention allows the decoder to dynamically focus on relevant parts of the input, improving alignment between input and output tokens.\n",
        "\n",
        "We also apply masking in the embedding layers and evaluation metrics to avoid the influence of padding during training. This ensures that performance metrics more accurately reflect the model's true capabilities.\n",
        "\n",
        "Lastly, we keep the model lightweight (embedding dimension = 32, RNN units = 28), which is sufficient for the limited vocabulary and small input size of the task."
      ],
      "metadata": {
        "id": "DaIfz4OqbyeE"
      }
    },
    {
      "cell_type": "code",
      "source": [
        "# Hyperparameters\n",
        "embedding_dim = 32\n",
        "rnn_units = 28\n",
        "\n",
        "# Encoder\n",
        "encoder_inputs = tf.keras.Input(shape=(None,), name=\"encoder_inputs_att\")\n",
        "\n",
        "encoder_embedding = layers.Embedding(\n",
        "    VOCAB_SIZE,\n",
        "    embedding_dim,\n",
        "    mask_zero=True,\n",
        "    name=\"encoder_embedding\"\n",
        ")(encoder_inputs)\n",
        "\n",
        "encoder_gru = layers.GRU(\n",
        "    rnn_units,\n",
        "    return_sequences=True,\n",
        "    return_state=True,\n",
        "    name=\"encoder_gru\"\n",
        ")\n",
        "\n",
        "encoder_outputs, state_h = encoder_gru(encoder_embedding)\n",
        "\n",
        "# Decoder\n",
        "decoder_inputs = tf.keras.Input(shape=(None,), name=\"decoder_inputs_att\")\n",
        "\n",
        "decoder_embedding = layers.Embedding(\n",
        "    VOCAB_SIZE,\n",
        "    embedding_dim,\n",
        "    mask_zero=True,\n",
        "    name=\"decoder_embedding\"\n",
        ")(decoder_inputs)\n",
        "\n",
        "decoder_gru = layers.GRU(\n",
        "    rnn_units,\n",
        "    return_sequences=True,\n",
        "    return_state=True,\n",
        "    name=\"decoder_gru\"\n",
        ")\n",
        "\n",
        "decoder_outputs, _ = decoder_gru(decoder_embedding, initial_state=state_h)\n",
        "\n",
        "# Attention mechanism\n",
        "attention = layers.Attention(name=\"attention_layer\")([decoder_outputs, encoder_outputs],mask = [None, None])\n",
        "\n",
        "# Concatenate context and decoder outputs\n",
        "concat = layers.Concatenate(axis=-1)([decoder_outputs, attention])\n",
        "\n",
        "# Final output layer\n",
        "decoder_dense = layers.Dense(VOCAB_SIZE, activation='softmax', name=\"output_dense\")\n",
        "decoder_outputs_att = decoder_dense(concat)\n",
        "\n",
        "# Model definition\n",
        "model_att = tf.keras.Model([encoder_inputs, decoder_inputs], decoder_outputs_att)\n",
        "\n",
        "# Masked accuracy to avoid padding during training\n",
        "def masked_accuracy(y_true, y_pred):\n",
        "    y_true = tf.squeeze(y_true, axis=-1)\n",
        "    y_pred_labels = tf.argmax(y_pred, axis=-1)\n",
        "\n",
        "    mask = tf.cast(tf.not_equal(y_true, PAD_ID), tf.float32)\n",
        "    matches = tf.cast(tf.equal(y_true, y_pred_labels), tf.float32)\n",
        "\n",
        "    accuracy = tf.reduce_sum(matches * mask) / tf.reduce_sum(mask)\n",
        "    return accuracy\n",
        "\n",
        "# Model compilation\n",
        "model_att.compile(optimizer='adam', loss='sparse_categorical_crossentropy', metrics=[masked_accuracy])\n",
        "\n",
        "# Model summary\n",
        "model_att.summary()"
      ],
      "metadata": {
        "colab": {
          "base_uri": "https://localhost:8080/",
          "height": 609
        },
        "id": "VzMCg2CjsRFW",
        "outputId": "0df444fa-d3b0-4366-9206-6b3974a55633"
      },
      "execution_count": 4,
      "outputs": [
        {
          "output_type": "display_data",
          "data": {
            "text/plain": [
              "\u001b[1mModel: \"functional\"\u001b[0m\n"
            ],
            "text/html": [
              "<pre style=\"white-space:pre;overflow-x:auto;line-height:normal;font-family:Menlo,'DejaVu Sans Mono',consolas,'Courier New',monospace\"><span style=\"font-weight: bold\">Model: \"functional\"</span>\n",
              "</pre>\n"
            ]
          },
          "metadata": {}
        },
        {
          "output_type": "display_data",
          "data": {
            "text/plain": [
              "┏━━━━━━━━━━━━━━━━━━━━━┳━━━━━━━━━━━━━━━━━━━┳━━━━━━━━━━━━┳━━━━━━━━━━━━━━━━━━━┓\n",
              "┃\u001b[1m \u001b[0m\u001b[1mLayer (type)       \u001b[0m\u001b[1m \u001b[0m┃\u001b[1m \u001b[0m\u001b[1mOutput Shape     \u001b[0m\u001b[1m \u001b[0m┃\u001b[1m \u001b[0m\u001b[1m   Param #\u001b[0m\u001b[1m \u001b[0m┃\u001b[1m \u001b[0m\u001b[1mConnected to     \u001b[0m\u001b[1m \u001b[0m┃\n",
              "┡━━━━━━━━━━━━━━━━━━━━━╇━━━━━━━━━━━━━━━━━━━╇━━━━━━━━━━━━╇━━━━━━━━━━━━━━━━━━━┩\n",
              "│ encoder_inputs_att  │ (\u001b[38;5;45mNone\u001b[0m, \u001b[38;5;45mNone\u001b[0m)      │          \u001b[38;5;34m0\u001b[0m │ -                 │\n",
              "│ (\u001b[38;5;33mInputLayer\u001b[0m)        │                   │            │                   │\n",
              "├─────────────────────┼───────────────────┼────────────┼───────────────────┤\n",
              "│ decoder_inputs_att  │ (\u001b[38;5;45mNone\u001b[0m, \u001b[38;5;45mNone\u001b[0m)      │          \u001b[38;5;34m0\u001b[0m │ -                 │\n",
              "│ (\u001b[38;5;33mInputLayer\u001b[0m)        │                   │            │                   │\n",
              "├─────────────────────┼───────────────────┼────────────┼───────────────────┤\n",
              "│ encoder_embedding   │ (\u001b[38;5;45mNone\u001b[0m, \u001b[38;5;45mNone\u001b[0m, \u001b[38;5;34m32\u001b[0m)  │        \u001b[38;5;34m480\u001b[0m │ encoder_inputs_a… │\n",
              "│ (\u001b[38;5;33mEmbedding\u001b[0m)         │                   │            │                   │\n",
              "├─────────────────────┼───────────────────┼────────────┼───────────────────┤\n",
              "│ not_equal           │ (\u001b[38;5;45mNone\u001b[0m, \u001b[38;5;45mNone\u001b[0m)      │          \u001b[38;5;34m0\u001b[0m │ encoder_inputs_a… │\n",
              "│ (\u001b[38;5;33mNotEqual\u001b[0m)          │                   │            │                   │\n",
              "├─────────────────────┼───────────────────┼────────────┼───────────────────┤\n",
              "│ decoder_embedding   │ (\u001b[38;5;45mNone\u001b[0m, \u001b[38;5;45mNone\u001b[0m, \u001b[38;5;34m32\u001b[0m)  │        \u001b[38;5;34m480\u001b[0m │ decoder_inputs_a… │\n",
              "│ (\u001b[38;5;33mEmbedding\u001b[0m)         │                   │            │                   │\n",
              "├─────────────────────┼───────────────────┼────────────┼───────────────────┤\n",
              "│ encoder_gru (\u001b[38;5;33mGRU\u001b[0m)   │ [(\u001b[38;5;45mNone\u001b[0m, \u001b[38;5;45mNone\u001b[0m,     │      \u001b[38;5;34m5,208\u001b[0m │ encoder_embeddin… │\n",
              "│                     │ \u001b[38;5;34m28\u001b[0m), (\u001b[38;5;45mNone\u001b[0m, \u001b[38;5;34m28\u001b[0m)]  │            │ not_equal[\u001b[38;5;34m0\u001b[0m][\u001b[38;5;34m0\u001b[0m]   │\n",
              "├─────────────────────┼───────────────────┼────────────┼───────────────────┤\n",
              "│ decoder_gru (\u001b[38;5;33mGRU\u001b[0m)   │ [(\u001b[38;5;45mNone\u001b[0m, \u001b[38;5;45mNone\u001b[0m,     │      \u001b[38;5;34m5,208\u001b[0m │ decoder_embeddin… │\n",
              "│                     │ \u001b[38;5;34m28\u001b[0m), (\u001b[38;5;45mNone\u001b[0m, \u001b[38;5;34m28\u001b[0m)]  │            │ encoder_gru[\u001b[38;5;34m0\u001b[0m][\u001b[38;5;34m1\u001b[0m] │\n",
              "├─────────────────────┼───────────────────┼────────────┼───────────────────┤\n",
              "│ attention_layer     │ (\u001b[38;5;45mNone\u001b[0m, \u001b[38;5;45mNone\u001b[0m, \u001b[38;5;34m28\u001b[0m)  │          \u001b[38;5;34m0\u001b[0m │ decoder_gru[\u001b[38;5;34m0\u001b[0m][\u001b[38;5;34m0\u001b[0m… │\n",
              "│ (\u001b[38;5;33mAttention\u001b[0m)         │                   │            │ encoder_gru[\u001b[38;5;34m0\u001b[0m][\u001b[38;5;34m0\u001b[0m] │\n",
              "├─────────────────────┼───────────────────┼────────────┼───────────────────┤\n",
              "│ concatenate         │ (\u001b[38;5;45mNone\u001b[0m, \u001b[38;5;45mNone\u001b[0m, \u001b[38;5;34m56\u001b[0m)  │          \u001b[38;5;34m0\u001b[0m │ decoder_gru[\u001b[38;5;34m0\u001b[0m][\u001b[38;5;34m0\u001b[0m… │\n",
              "│ (\u001b[38;5;33mConcatenate\u001b[0m)       │                   │            │ attention_layer[\u001b[38;5;34m…\u001b[0m │\n",
              "├─────────────────────┼───────────────────┼────────────┼───────────────────┤\n",
              "│ output_dense        │ (\u001b[38;5;45mNone\u001b[0m, \u001b[38;5;45mNone\u001b[0m, \u001b[38;5;34m15\u001b[0m)  │        \u001b[38;5;34m855\u001b[0m │ concatenate[\u001b[38;5;34m0\u001b[0m][\u001b[38;5;34m0\u001b[0m] │\n",
              "│ (\u001b[38;5;33mDense\u001b[0m)             │                   │            │                   │\n",
              "└─────────────────────┴───────────────────┴────────────┴───────────────────┘\n"
            ],
            "text/html": [
              "<pre style=\"white-space:pre;overflow-x:auto;line-height:normal;font-family:Menlo,'DejaVu Sans Mono',consolas,'Courier New',monospace\">┏━━━━━━━━━━━━━━━━━━━━━┳━━━━━━━━━━━━━━━━━━━┳━━━━━━━━━━━━┳━━━━━━━━━━━━━━━━━━━┓\n",
              "┃<span style=\"font-weight: bold\"> Layer (type)        </span>┃<span style=\"font-weight: bold\"> Output Shape      </span>┃<span style=\"font-weight: bold\">    Param # </span>┃<span style=\"font-weight: bold\"> Connected to      </span>┃\n",
              "┡━━━━━━━━━━━━━━━━━━━━━╇━━━━━━━━━━━━━━━━━━━╇━━━━━━━━━━━━╇━━━━━━━━━━━━━━━━━━━┩\n",
              "│ encoder_inputs_att  │ (<span style=\"color: #00d7ff; text-decoration-color: #00d7ff\">None</span>, <span style=\"color: #00d7ff; text-decoration-color: #00d7ff\">None</span>)      │          <span style=\"color: #00af00; text-decoration-color: #00af00\">0</span> │ -                 │\n",
              "│ (<span style=\"color: #0087ff; text-decoration-color: #0087ff\">InputLayer</span>)        │                   │            │                   │\n",
              "├─────────────────────┼───────────────────┼────────────┼───────────────────┤\n",
              "│ decoder_inputs_att  │ (<span style=\"color: #00d7ff; text-decoration-color: #00d7ff\">None</span>, <span style=\"color: #00d7ff; text-decoration-color: #00d7ff\">None</span>)      │          <span style=\"color: #00af00; text-decoration-color: #00af00\">0</span> │ -                 │\n",
              "│ (<span style=\"color: #0087ff; text-decoration-color: #0087ff\">InputLayer</span>)        │                   │            │                   │\n",
              "├─────────────────────┼───────────────────┼────────────┼───────────────────┤\n",
              "│ encoder_embedding   │ (<span style=\"color: #00d7ff; text-decoration-color: #00d7ff\">None</span>, <span style=\"color: #00d7ff; text-decoration-color: #00d7ff\">None</span>, <span style=\"color: #00af00; text-decoration-color: #00af00\">32</span>)  │        <span style=\"color: #00af00; text-decoration-color: #00af00\">480</span> │ encoder_inputs_a… │\n",
              "│ (<span style=\"color: #0087ff; text-decoration-color: #0087ff\">Embedding</span>)         │                   │            │                   │\n",
              "├─────────────────────┼───────────────────┼────────────┼───────────────────┤\n",
              "│ not_equal           │ (<span style=\"color: #00d7ff; text-decoration-color: #00d7ff\">None</span>, <span style=\"color: #00d7ff; text-decoration-color: #00d7ff\">None</span>)      │          <span style=\"color: #00af00; text-decoration-color: #00af00\">0</span> │ encoder_inputs_a… │\n",
              "│ (<span style=\"color: #0087ff; text-decoration-color: #0087ff\">NotEqual</span>)          │                   │            │                   │\n",
              "├─────────────────────┼───────────────────┼────────────┼───────────────────┤\n",
              "│ decoder_embedding   │ (<span style=\"color: #00d7ff; text-decoration-color: #00d7ff\">None</span>, <span style=\"color: #00d7ff; text-decoration-color: #00d7ff\">None</span>, <span style=\"color: #00af00; text-decoration-color: #00af00\">32</span>)  │        <span style=\"color: #00af00; text-decoration-color: #00af00\">480</span> │ decoder_inputs_a… │\n",
              "│ (<span style=\"color: #0087ff; text-decoration-color: #0087ff\">Embedding</span>)         │                   │            │                   │\n",
              "├─────────────────────┼───────────────────┼────────────┼───────────────────┤\n",
              "│ encoder_gru (<span style=\"color: #0087ff; text-decoration-color: #0087ff\">GRU</span>)   │ [(<span style=\"color: #00d7ff; text-decoration-color: #00d7ff\">None</span>, <span style=\"color: #00d7ff; text-decoration-color: #00d7ff\">None</span>,     │      <span style=\"color: #00af00; text-decoration-color: #00af00\">5,208</span> │ encoder_embeddin… │\n",
              "│                     │ <span style=\"color: #00af00; text-decoration-color: #00af00\">28</span>), (<span style=\"color: #00d7ff; text-decoration-color: #00d7ff\">None</span>, <span style=\"color: #00af00; text-decoration-color: #00af00\">28</span>)]  │            │ not_equal[<span style=\"color: #00af00; text-decoration-color: #00af00\">0</span>][<span style=\"color: #00af00; text-decoration-color: #00af00\">0</span>]   │\n",
              "├─────────────────────┼───────────────────┼────────────┼───────────────────┤\n",
              "│ decoder_gru (<span style=\"color: #0087ff; text-decoration-color: #0087ff\">GRU</span>)   │ [(<span style=\"color: #00d7ff; text-decoration-color: #00d7ff\">None</span>, <span style=\"color: #00d7ff; text-decoration-color: #00d7ff\">None</span>,     │      <span style=\"color: #00af00; text-decoration-color: #00af00\">5,208</span> │ decoder_embeddin… │\n",
              "│                     │ <span style=\"color: #00af00; text-decoration-color: #00af00\">28</span>), (<span style=\"color: #00d7ff; text-decoration-color: #00d7ff\">None</span>, <span style=\"color: #00af00; text-decoration-color: #00af00\">28</span>)]  │            │ encoder_gru[<span style=\"color: #00af00; text-decoration-color: #00af00\">0</span>][<span style=\"color: #00af00; text-decoration-color: #00af00\">1</span>] │\n",
              "├─────────────────────┼───────────────────┼────────────┼───────────────────┤\n",
              "│ attention_layer     │ (<span style=\"color: #00d7ff; text-decoration-color: #00d7ff\">None</span>, <span style=\"color: #00d7ff; text-decoration-color: #00d7ff\">None</span>, <span style=\"color: #00af00; text-decoration-color: #00af00\">28</span>)  │          <span style=\"color: #00af00; text-decoration-color: #00af00\">0</span> │ decoder_gru[<span style=\"color: #00af00; text-decoration-color: #00af00\">0</span>][<span style=\"color: #00af00; text-decoration-color: #00af00\">0</span>… │\n",
              "│ (<span style=\"color: #0087ff; text-decoration-color: #0087ff\">Attention</span>)         │                   │            │ encoder_gru[<span style=\"color: #00af00; text-decoration-color: #00af00\">0</span>][<span style=\"color: #00af00; text-decoration-color: #00af00\">0</span>] │\n",
              "├─────────────────────┼───────────────────┼────────────┼───────────────────┤\n",
              "│ concatenate         │ (<span style=\"color: #00d7ff; text-decoration-color: #00d7ff\">None</span>, <span style=\"color: #00d7ff; text-decoration-color: #00d7ff\">None</span>, <span style=\"color: #00af00; text-decoration-color: #00af00\">56</span>)  │          <span style=\"color: #00af00; text-decoration-color: #00af00\">0</span> │ decoder_gru[<span style=\"color: #00af00; text-decoration-color: #00af00\">0</span>][<span style=\"color: #00af00; text-decoration-color: #00af00\">0</span>… │\n",
              "│ (<span style=\"color: #0087ff; text-decoration-color: #0087ff\">Concatenate</span>)       │                   │            │ attention_layer[<span style=\"color: #00af00; text-decoration-color: #00af00\">…</span> │\n",
              "├─────────────────────┼───────────────────┼────────────┼───────────────────┤\n",
              "│ output_dense        │ (<span style=\"color: #00d7ff; text-decoration-color: #00d7ff\">None</span>, <span style=\"color: #00d7ff; text-decoration-color: #00d7ff\">None</span>, <span style=\"color: #00af00; text-decoration-color: #00af00\">15</span>)  │        <span style=\"color: #00af00; text-decoration-color: #00af00\">855</span> │ concatenate[<span style=\"color: #00af00; text-decoration-color: #00af00\">0</span>][<span style=\"color: #00af00; text-decoration-color: #00af00\">0</span>] │\n",
              "│ (<span style=\"color: #0087ff; text-decoration-color: #0087ff\">Dense</span>)             │                   │            │                   │\n",
              "└─────────────────────┴───────────────────┴────────────┴───────────────────┘\n",
              "</pre>\n"
            ]
          },
          "metadata": {}
        },
        {
          "output_type": "display_data",
          "data": {
            "text/plain": [
              "\u001b[1m Total params: \u001b[0m\u001b[38;5;34m12,231\u001b[0m (47.78 KB)\n"
            ],
            "text/html": [
              "<pre style=\"white-space:pre;overflow-x:auto;line-height:normal;font-family:Menlo,'DejaVu Sans Mono',consolas,'Courier New',monospace\"><span style=\"font-weight: bold\"> Total params: </span><span style=\"color: #00af00; text-decoration-color: #00af00\">12,231</span> (47.78 KB)\n",
              "</pre>\n"
            ]
          },
          "metadata": {}
        },
        {
          "output_type": "display_data",
          "data": {
            "text/plain": [
              "\u001b[1m Trainable params: \u001b[0m\u001b[38;5;34m12,231\u001b[0m (47.78 KB)\n"
            ],
            "text/html": [
              "<pre style=\"white-space:pre;overflow-x:auto;line-height:normal;font-family:Menlo,'DejaVu Sans Mono',consolas,'Courier New',monospace\"><span style=\"font-weight: bold\"> Trainable params: </span><span style=\"color: #00af00; text-decoration-color: #00af00\">12,231</span> (47.78 KB)\n",
              "</pre>\n"
            ]
          },
          "metadata": {}
        },
        {
          "output_type": "display_data",
          "data": {
            "text/plain": [
              "\u001b[1m Non-trainable params: \u001b[0m\u001b[38;5;34m0\u001b[0m (0.00 B)\n"
            ],
            "text/html": [
              "<pre style=\"white-space:pre;overflow-x:auto;line-height:normal;font-family:Menlo,'DejaVu Sans Mono',consolas,'Courier New',monospace\"><span style=\"font-weight: bold\"> Non-trainable params: </span><span style=\"color: #00af00; text-decoration-color: #00af00\">0</span> (0.00 B)\n",
              "</pre>\n"
            ]
          },
          "metadata": {}
        }
      ]
    },
    {
      "cell_type": "markdown",
      "source": [
        "Let's define the autoregressive_decode function to generate predictions. While the training phase can be done in parallel, the testing phase must generate one token at a time."
      ],
      "metadata": {
        "id": "Ws0-6-KZcz11"
      }
    },
    {
      "cell_type": "code",
      "source": [
        "# Definition of the autoregressive_decode\n",
        "def autoregressive_decode(model, encoder_input):\n",
        "\n",
        "    # Transform the input in an numpy array and add a dimension\n",
        "    enc_seq = np.array(encoder_input)[np.newaxis, :]\n",
        "\n",
        "    # Initialize input only with SOS\n",
        "    sos_id = token_to_id['SOS']\n",
        "    target_seq = np.array([[sos_id]])\n",
        "    decoded_ids = [sos_id]\n",
        "\n",
        "     # Loop until MAX_LEN or EOS\n",
        "    for _ in range(MAX_LEN):\n",
        "\n",
        "        # Prediction\n",
        "        preds = model.predict([enc_seq, target_seq], verbose=0)\n",
        "\n",
        "        # Take the id token with highest probability and append it\n",
        "        next_id = np.argmax(preds[0, -1, :])\n",
        "        decoded_ids.append(int(next_id))\n",
        "\n",
        "        # Stop if EOS\n",
        "        if id_to_token[next_id] == 'EOS':\n",
        "            break\n",
        "\n",
        "        # Update the next token\n",
        "        next_id_arr = np.array([[next_id]])\n",
        "        target_seq = np.concatenate([target_seq, next_id_arr], axis=1)\n",
        "\n",
        "    return decoded_ids"
      ],
      "metadata": {
        "id": "3OmUIG1B2lH1"
      },
      "execution_count": 5,
      "outputs": []
    },
    {
      "cell_type": "markdown",
      "source": [
        "# Training phase"
      ],
      "metadata": {
        "id": "X4aIMGEUc504"
      }
    },
    {
      "cell_type": "markdown",
      "source": [
        "Train the model using early stopping as callback and save the traning history in a variable to plot it later."
      ],
      "metadata": {
        "id": "LBfuxoGciv-x"
      }
    },
    {
      "cell_type": "code",
      "source": [
        "early_stopping = tf.keras.callbacks.EarlyStopping(\n",
        "    monitor='val_loss',\n",
        "    patience=3,\n",
        "    restore_best_weights=True\n",
        ")\n",
        "\n",
        "history = model_att.fit(\n",
        "    [X_train, decoder_input_train], Y_train_target,\n",
        "    validation_data=([X_val, decoder_input_val], Y_val_target),\n",
        "    batch_size=64,\n",
        "    epochs=40,\n",
        "    callbacks=[early_stopping]\n",
        ")"
      ],
      "metadata": {
        "colab": {
          "base_uri": "https://localhost:8080/"
        },
        "id": "AWE0qQbAsaEz",
        "outputId": "e5faeb4e-f867-4c40-ff6c-ffa5ac6146c7"
      },
      "execution_count": null,
      "outputs": [
        {
          "output_type": "stream",
          "name": "stdout",
          "text": [
            "Epoch 1/40\n",
            "\u001b[1m188/188\u001b[0m \u001b[32m━━━━━━━━━━━━━━━━━━━━\u001b[0m\u001b[37m\u001b[0m \u001b[1m16s\u001b[0m 53ms/step - loss: 2.1638 - masked_accuracy: 0.2110 - val_loss: 1.2376 - val_masked_accuracy: 0.4915\n",
            "Epoch 2/40\n",
            "\u001b[1m188/188\u001b[0m \u001b[32m━━━━━━━━━━━━━━━━━━━━\u001b[0m\u001b[37m\u001b[0m \u001b[1m10s\u001b[0m 55ms/step - loss: 1.1251 - masked_accuracy: 0.5447 - val_loss: 0.8041 - val_masked_accuracy: 0.7015\n",
            "Epoch 3/40\n",
            "\u001b[1m188/188\u001b[0m \u001b[32m━━━━━━━━━━━━━━━━━━━━\u001b[0m\u001b[37m\u001b[0m \u001b[1m16s\u001b[0m 87ms/step - loss: 0.7248 - masked_accuracy: 0.7366 - val_loss: 0.5047 - val_masked_accuracy: 0.8292\n",
            "Epoch 4/40\n",
            "\u001b[1m188/188\u001b[0m \u001b[32m━━━━━━━━━━━━━━━━━━━━\u001b[0m\u001b[37m\u001b[0m \u001b[1m13s\u001b[0m 49ms/step - loss: 0.4276 - masked_accuracy: 0.8673 - val_loss: 0.2155 - val_masked_accuracy: 0.9462\n",
            "Epoch 5/40\n",
            "\u001b[1m188/188\u001b[0m \u001b[32m━━━━━━━━━━━━━━━━━━━━\u001b[0m\u001b[37m\u001b[0m \u001b[1m10s\u001b[0m 50ms/step - loss: 0.1830 - masked_accuracy: 0.9518 - val_loss: 0.1274 - val_masked_accuracy: 0.9644\n",
            "Epoch 6/40\n",
            "\u001b[1m188/188\u001b[0m \u001b[32m━━━━━━━━━━━━━━━━━━━━\u001b[0m\u001b[37m\u001b[0m \u001b[1m10s\u001b[0m 47ms/step - loss: 0.0991 - masked_accuracy: 0.9754 - val_loss: 0.0730 - val_masked_accuracy: 0.9860\n",
            "Epoch 7/40\n",
            "\u001b[1m188/188\u001b[0m \u001b[32m━━━━━━━━━━━━━━━━━━━━\u001b[0m\u001b[37m\u001b[0m \u001b[1m9s\u001b[0m 43ms/step - loss: 0.0613 - masked_accuracy: 0.9871 - val_loss: 0.0654 - val_masked_accuracy: 0.9841\n",
            "Epoch 8/40\n",
            "\u001b[1m188/188\u001b[0m \u001b[32m━━━━━━━━━━━━━━━━━━━━\u001b[0m\u001b[37m\u001b[0m \u001b[1m11s\u001b[0m 45ms/step - loss: 0.0410 - masked_accuracy: 0.9925 - val_loss: 0.0310 - val_masked_accuracy: 0.9948\n",
            "Epoch 9/40\n",
            "\u001b[1m188/188\u001b[0m \u001b[32m━━━━━━━━━━━━━━━━━━━━\u001b[0m\u001b[37m\u001b[0m \u001b[1m11s\u001b[0m 49ms/step - loss: 0.0277 - masked_accuracy: 0.9953 - val_loss: 0.0229 - val_masked_accuracy: 0.9964\n",
            "Epoch 10/40\n",
            "\u001b[1m188/188\u001b[0m \u001b[32m━━━━━━━━━━━━━━━━━━━━\u001b[0m\u001b[37m\u001b[0m \u001b[1m10s\u001b[0m 51ms/step - loss: 0.0190 - masked_accuracy: 0.9976 - val_loss: 0.0196 - val_masked_accuracy: 0.9973\n",
            "Epoch 11/40\n",
            "\u001b[1m188/188\u001b[0m \u001b[32m━━━━━━━━━━━━━━━━━━━━\u001b[0m\u001b[37m\u001b[0m \u001b[1m8s\u001b[0m 44ms/step - loss: 0.0142 - masked_accuracy: 0.9985 - val_loss: 0.0147 - val_masked_accuracy: 0.9980\n",
            "Epoch 12/40\n",
            "\u001b[1m188/188\u001b[0m \u001b[32m━━━━━━━━━━━━━━━━━━━━\u001b[0m\u001b[37m\u001b[0m \u001b[1m10s\u001b[0m 42ms/step - loss: 0.0119 - masked_accuracy: 0.9987 - val_loss: 0.0090 - val_masked_accuracy: 0.9993\n",
            "Epoch 13/40\n",
            "\u001b[1m188/188\u001b[0m \u001b[32m━━━━━━━━━━━━━━━━━━━━\u001b[0m\u001b[37m\u001b[0m \u001b[1m11s\u001b[0m 46ms/step - loss: 0.0083 - masked_accuracy: 0.9993 - val_loss: 0.0135 - val_masked_accuracy: 0.9971\n",
            "Epoch 14/40\n",
            "\u001b[1m188/188\u001b[0m \u001b[32m━━━━━━━━━━━━━━━━━━━━\u001b[0m\u001b[37m\u001b[0m \u001b[1m10s\u001b[0m 52ms/step - loss: 0.0078 - masked_accuracy: 0.9993 - val_loss: 0.0054 - val_masked_accuracy: 1.0000\n",
            "Epoch 15/40\n",
            "\u001b[1m188/188\u001b[0m \u001b[32m━━━━━━━━━━━━━━━━━━━━\u001b[0m\u001b[37m\u001b[0m \u001b[1m10s\u001b[0m 50ms/step - loss: 0.0050 - masked_accuracy: 0.9999 - val_loss: 0.0045 - val_masked_accuracy: 1.0000\n",
            "Epoch 16/40\n",
            "\u001b[1m188/188\u001b[0m \u001b[32m━━━━━━━━━━━━━━━━━━━━\u001b[0m\u001b[37m\u001b[0m \u001b[1m9s\u001b[0m 43ms/step - loss: 0.0039 - masked_accuracy: 1.0000 - val_loss: 0.0038 - val_masked_accuracy: 1.0000\n",
            "Epoch 17/40\n",
            "\u001b[1m188/188\u001b[0m \u001b[32m━━━━━━━━━━━━━━━━━━━━\u001b[0m\u001b[37m\u001b[0m \u001b[1m11s\u001b[0m 45ms/step - loss: 0.0035 - masked_accuracy: 0.9998 - val_loss: 0.0727 - val_masked_accuracy: 0.9734\n",
            "Epoch 18/40\n",
            "\u001b[1m188/188\u001b[0m \u001b[32m━━━━━━━━━━━━━━━━━━━━\u001b[0m\u001b[37m\u001b[0m \u001b[1m11s\u001b[0m 50ms/step - loss: 0.0149 - masked_accuracy: 0.9958 - val_loss: 0.0033 - val_masked_accuracy: 0.9999\n",
            "Epoch 19/40\n",
            "\u001b[1m188/188\u001b[0m \u001b[32m━━━━━━━━━━━━━━━━━━━━\u001b[0m\u001b[37m\u001b[0m \u001b[1m10s\u001b[0m 50ms/step - loss: 0.0025 - masked_accuracy: 1.0000 - val_loss: 0.0025 - val_masked_accuracy: 1.0000\n",
            "Epoch 20/40\n",
            "\u001b[1m188/188\u001b[0m \u001b[32m━━━━━━━━━━━━━━━━━━━━\u001b[0m\u001b[37m\u001b[0m \u001b[1m10s\u001b[0m 50ms/step - loss: 0.0020 - masked_accuracy: 1.0000 - val_loss: 0.0021 - val_masked_accuracy: 1.0000\n",
            "Epoch 21/40\n",
            "\u001b[1m188/188\u001b[0m \u001b[32m━━━━━━━━━━━━━━━━━━━━\u001b[0m\u001b[37m\u001b[0m \u001b[1m9s\u001b[0m 45ms/step - loss: 0.0017 - masked_accuracy: 1.0000 - val_loss: 0.0018 - val_masked_accuracy: 1.0000\n",
            "Epoch 22/40\n",
            "\u001b[1m188/188\u001b[0m \u001b[32m━━━━━━━━━━━━━━━━━━━━\u001b[0m\u001b[37m\u001b[0m \u001b[1m10s\u001b[0m 42ms/step - loss: 0.0014 - masked_accuracy: 1.0000 - val_loss: 0.0016 - val_masked_accuracy: 1.0000\n",
            "Epoch 23/40\n",
            "\u001b[1m188/188\u001b[0m \u001b[32m━━━━━━━━━━━━━━━━━━━━\u001b[0m\u001b[37m\u001b[0m \u001b[1m11s\u001b[0m 47ms/step - loss: 0.0012 - masked_accuracy: 1.0000 - val_loss: 0.0013 - val_masked_accuracy: 1.0000\n",
            "Epoch 24/40\n",
            "\u001b[1m188/188\u001b[0m \u001b[32m━━━━━━━━━━━━━━━━━━━━\u001b[0m\u001b[37m\u001b[0m \u001b[1m9s\u001b[0m 50ms/step - loss: 0.0011 - masked_accuracy: 1.0000 - val_loss: 0.0012 - val_masked_accuracy: 1.0000\n",
            "Epoch 25/40\n",
            "\u001b[1m188/188\u001b[0m \u001b[32m━━━━━━━━━━━━━━━━━━━━\u001b[0m\u001b[37m\u001b[0m \u001b[1m10s\u001b[0m 49ms/step - loss: 9.1979e-04 - masked_accuracy: 1.0000 - val_loss: 0.0011 - val_masked_accuracy: 1.0000\n",
            "Epoch 26/40\n",
            "\u001b[1m188/188\u001b[0m \u001b[32m━━━━━━━━━━━━━━━━━━━━\u001b[0m\u001b[37m\u001b[0m \u001b[1m9s\u001b[0m 42ms/step - loss: 8.5375e-04 - masked_accuracy: 1.0000 - val_loss: 9.2281e-04 - val_masked_accuracy: 1.0000\n",
            "Epoch 27/40\n",
            "\u001b[1m188/188\u001b[0m \u001b[32m━━━━━━━━━━━━━━━━━━━━\u001b[0m\u001b[37m\u001b[0m \u001b[1m10s\u001b[0m 43ms/step - loss: 7.3637e-04 - masked_accuracy: 1.0000 - val_loss: 8.1372e-04 - val_masked_accuracy: 1.0000\n",
            "Epoch 28/40\n",
            "\u001b[1m188/188\u001b[0m \u001b[32m━━━━━━━━━━━━━━━━━━━━\u001b[0m\u001b[37m\u001b[0m \u001b[1m11s\u001b[0m 48ms/step - loss: 6.4658e-04 - masked_accuracy: 1.0000 - val_loss: 8.0513e-04 - val_masked_accuracy: 1.0000\n",
            "Epoch 29/40\n",
            "\u001b[1m188/188\u001b[0m \u001b[32m━━━━━━━━━━━━━━━━━━━━\u001b[0m\u001b[37m\u001b[0m \u001b[1m11s\u001b[0m 49ms/step - loss: 5.7309e-04 - masked_accuracy: 1.0000 - val_loss: 6.6372e-04 - val_masked_accuracy: 1.0000\n",
            "Epoch 30/40\n",
            "\u001b[1m188/188\u001b[0m \u001b[32m━━━━━━━━━━━━━━━━━━━━\u001b[0m\u001b[37m\u001b[0m \u001b[1m10s\u001b[0m 49ms/step - loss: 4.9527e-04 - masked_accuracy: 1.0000 - val_loss: 6.1202e-04 - val_masked_accuracy: 1.0000\n",
            "Epoch 31/40\n",
            "\u001b[1m188/188\u001b[0m \u001b[32m━━━━━━━━━━━━━━━━━━━━\u001b[0m\u001b[37m\u001b[0m \u001b[1m8s\u001b[0m 43ms/step - loss: 4.6196e-04 - masked_accuracy: 1.0000 - val_loss: 5.1185e-04 - val_masked_accuracy: 1.0000\n",
            "Epoch 32/40\n",
            "\u001b[1m188/188\u001b[0m \u001b[32m━━━━━━━━━━━━━━━━━━━━\u001b[0m\u001b[37m\u001b[0m \u001b[1m10s\u001b[0m 43ms/step - loss: 4.0742e-04 - masked_accuracy: 1.0000 - val_loss: 4.5875e-04 - val_masked_accuracy: 1.0000\n",
            "Epoch 33/40\n",
            "\u001b[1m188/188\u001b[0m \u001b[32m━━━━━━━━━━━━━━━━━━━━\u001b[0m\u001b[37m\u001b[0m \u001b[1m9s\u001b[0m 49ms/step - loss: 3.5802e-04 - masked_accuracy: 1.0000 - val_loss: 4.2145e-04 - val_masked_accuracy: 1.0000\n",
            "Epoch 34/40\n",
            "\u001b[1m188/188\u001b[0m \u001b[32m━━━━━━━━━━━━━━━━━━━━\u001b[0m\u001b[37m\u001b[0m \u001b[1m10s\u001b[0m 49ms/step - loss: 3.2918e-04 - masked_accuracy: 1.0000 - val_loss: 3.7060e-04 - val_masked_accuracy: 1.0000\n",
            "Epoch 35/40\n",
            "\u001b[1m188/188\u001b[0m \u001b[32m━━━━━━━━━━━━━━━━━━━━\u001b[0m\u001b[37m\u001b[0m \u001b[1m10s\u001b[0m 48ms/step - loss: 2.9318e-04 - masked_accuracy: 1.0000 - val_loss: 3.2834e-04 - val_masked_accuracy: 1.0000\n",
            "Epoch 36/40\n",
            "\u001b[1m188/188\u001b[0m \u001b[32m━━━━━━━━━━━━━━━━━━━━\u001b[0m\u001b[37m\u001b[0m \u001b[1m9s\u001b[0m 43ms/step - loss: 2.6019e-04 - masked_accuracy: 1.0000 - val_loss: 3.0592e-04 - val_masked_accuracy: 1.0000\n",
            "Epoch 37/40\n",
            "\u001b[1m188/188\u001b[0m \u001b[32m━━━━━━━━━━━━━━━━━━━━\u001b[0m\u001b[37m\u001b[0m \u001b[1m10s\u001b[0m 43ms/step - loss: 2.3346e-04 - masked_accuracy: 1.0000 - val_loss: 2.7742e-04 - val_masked_accuracy: 1.0000\n",
            "Epoch 38/40\n",
            "\u001b[1m188/188\u001b[0m \u001b[32m━━━━━━━━━━━━━━━━━━━━\u001b[0m\u001b[37m\u001b[0m \u001b[1m11s\u001b[0m 50ms/step - loss: 2.1042e-04 - masked_accuracy: 1.0000 - val_loss: 2.8549e-04 - val_masked_accuracy: 1.0000\n",
            "Epoch 39/40\n",
            "\u001b[1m188/188\u001b[0m \u001b[32m━━━━━━━━━━━━━━━━━━━━\u001b[0m\u001b[37m\u001b[0m \u001b[1m9s\u001b[0m 49ms/step - loss: 0.0556 - masked_accuracy: 0.9879 - val_loss: 0.0031 - val_masked_accuracy: 0.9996\n",
            "Epoch 40/40\n",
            "\u001b[1m188/188\u001b[0m \u001b[32m━━━━━━━━━━━━━━━━━━━━\u001b[0m\u001b[37m\u001b[0m \u001b[1m9s\u001b[0m 45ms/step - loss: 0.0020 - masked_accuracy: 0.9999 - val_loss: 0.0014 - val_masked_accuracy: 0.9999\n"
          ]
        }
      ]
    },
    {
      "cell_type": "markdown",
      "source": [
        "Plot the training history."
      ],
      "metadata": {
        "id": "RSdyokD5iysa"
      }
    },
    {
      "cell_type": "code",
      "source": [
        "import matplotlib.pyplot as plt\n",
        "\n",
        "# Loss\n",
        "plt.plot(history.history['loss'], label='Training loss')\n",
        "plt.plot(history.history['val_loss'], label='Validation loss')\n",
        "plt.title('Loss')\n",
        "plt.xlabel('Epoch')\n",
        "plt.ylabel('Loss')\n",
        "plt.legend()\n",
        "plt.show()\n",
        "\n",
        "\n",
        "plt.plot(history.history['masked_accuracy'], label='Training accuracy')\n",
        "plt.plot(history.history['val_masked_accuracy'], label='Validation accuracy')\n",
        "plt.title('Accuracy')\n",
        "plt.xlabel('Epoch')\n",
        "plt.ylabel('Accuracy')\n",
        "plt.legend()\n",
        "plt.show()"
      ],
      "metadata": {
        "colab": {
          "base_uri": "https://localhost:8080/",
          "height": 927
        },
        "id": "7qHUARNmi_Gk",
        "outputId": "4d0ffd9c-ea63-4037-ae2c-98999dbcc42d"
      },
      "execution_count": null,
      "outputs": [
        {
          "output_type": "display_data",
          "data": {
            "text/plain": [
              "<Figure size 640x480 with 1 Axes>"
            ],
            "image/png": "[encoded data removed]"
          },
          "metadata": {}
        },
        {
          "output_type": "display_data",
          "data": {
            "text/plain": [
              "<Figure size 640x480 with 1 Axes>"
            ],
            "image/png": "[encoded data removed]"
          },
          "metadata": {}
        }
      ]
    },
    {
      "cell_type": "markdown",
      "source": [
        "From both the accuracy and loss plots, we can see that after only 40 epochs, the model achieves excellent performance without showing signs of overfitting on the training data.\n",
        "\n",
        "In this case, early stopping is not even necessary to prevent it."
      ],
      "metadata": {
        "id": "z9ML2d0owEj2"
      }
    },
    {
      "cell_type": "markdown",
      "source": [
        "# Evaluation\n",
        "\n",
        "We shall evaluate a generated item y_pred using \"prefix accuracy\", the lenght of\n",
        "the initial prefix of y_pred matching the ground true y_true. This will be divided by the maximum length of y_true and y_pred (up to EOS), so that a perfect match has score 1.\n",
        "\n",
        "* It's more informative than exact match (which is often 0)\n",
        "\n",
        "* It’s tighter than edit distance: focuses on generation flow\n",
        "\n",
        "* Captures where the model starts to make errors\n",
        "\n"
      ],
      "metadata": {
        "id": "3_J6wWOql8Ju"
      }
    },
    {
      "cell_type": "code",
      "source": [
        "def prefix_accuracy_single(y_true, y_pred, id_to_token, eos_id=EOS_ID, verbose=False):\n",
        "    t_str = decode_sequence(y_true, id_to_token).split(' EOS')[0]\n",
        "    p_str = decode_sequence(y_pred, id_to_token).split(' EOS')[0]\n",
        "    t_tokens = t_str.strip().split()\n",
        "    p_tokens = p_str.strip().split()\n",
        "    max_len = max(len(t_tokens), len(p_tokens))\n",
        "\n",
        "    match_len = sum(x == y for x, y in zip(t_tokens, p_tokens))\n",
        "    score = match_len / max_len if max_len>0 else 0\n",
        "\n",
        "    if verbose:\n",
        "        print(\"TARGET :\", ' '.join(t_tokens))\n",
        "        print(\"PREDICT:\", ' '.join(p_tokens))\n",
        "        print(f\"PREFIX MATCH: {match_len}/{len(t_tokens)} → {score:.2f}\")\n",
        "\n",
        "    return score"
      ],
      "metadata": {
        "id": "EUnNhKW-l2Xf"
      },
      "execution_count": 6,
      "outputs": []
    },
    {
      "cell_type": "markdown",
      "source": [
        "Evaluate the model on a test set of 20 expressions. Repeat this evaluation 10 times, and return the mean and std for this rounds.\n",
        "\n",
        "The model takes as input the expression in infix format and return its translation to postifix.\n",
        "\n",
        "The generation is done autoregressively, beacause we are using an encoder-decoder model."
      ],
      "metadata": {
        "id": "6rKxC3FxmnO3"
      }
    },
    {
      "cell_type": "code",
      "source": [
        "def test(no=20,rounds=10):\n",
        "  rscores =[]\n",
        "  for i in range(rounds):\n",
        "    print(\"round=\",i)\n",
        "    X_test, Y_test = generate_dataset(no)\n",
        "    scores = []\n",
        "    for j in range(no):\n",
        "      encoder_input=X_test[j]\n",
        "\n",
        "      # autoregressive decode\n",
        "      generated = autoregressive_decode(model_att, encoder_input)[1:]\n",
        "\n",
        "\n",
        "      scores.append(prefix_accuracy_single(Y_test[j], generated, id_to_token))\n",
        "    rscores.append(np.mean(scores))\n",
        "  return np.mean(rscores),np.std(rscores)"
      ],
      "metadata": {
        "id": "zUVqpktXmdU1"
      },
      "execution_count": 7,
      "outputs": []
    },
    {
      "cell_type": "markdown",
      "source": [
        "Let's test the model to determine if the training has obtained good weights."
      ],
      "metadata": {
        "id": "Ldwet3bnyMBH"
      }
    },
    {
      "cell_type": "code",
      "source": [
        "res, std = test(20,10)\n",
        "print(\"score=\",res,\"std=\",std)"
      ],
      "metadata": {
        "colab": {
          "base_uri": "https://localhost:8080/"
        },
        "id": "KP8vi-iOyK0a",
        "outputId": "0c4c174e-fb11-4923-e854-67b24010f5e4"
      },
      "execution_count": 10,
      "outputs": [
        {
          "output_type": "stream",
          "name": "stdout",
          "text": [
            "round= 0\n",
            "round= 1\n",
            "round= 2\n",
            "round= 3\n",
            "round= 4\n",
            "round= 5\n",
            "round= 6\n",
            "round= 7\n",
            "round= 8\n",
            "round= 9\n",
            "score= 1.0 std= 0.0\n"
          ]
        }
      ]
    },
    {
      "cell_type": "markdown",
      "source": [
        "# Saving weights of the model on drive\n",
        "\n"
      ],
      "metadata": {
        "id": "KhnodHa0d-3A"
      }
    },
    {
      "cell_type": "markdown",
      "source": [
        "Mount the drive."
      ],
      "metadata": {
        "id": "inCm5lCceP69"
      }
    },
    {
      "cell_type": "code",
      "source": [
        "from google.colab import drive\n",
        "drive.mount('/content/drive')"
      ],
      "metadata": {
        "id": "CYoQyy3eeJQo",
        "colab": {
          "base_uri": "https://localhost:8080/"
        },
        "outputId": "c3b58c7a-b80a-4665-b6e9-f26fd9d5f249"
      },
      "execution_count": null,
      "outputs": [
        {
          "output_type": "stream",
          "name": "stdout",
          "text": [
            "Mounted at /content/drive\n"
          ]
        }
      ]
    },
    {
      "cell_type": "markdown",
      "source": [
        "Save the weights (overwrite the file only if the model has reached better performance)"
      ],
      "metadata": {
        "id": "qKO65BfseSbv"
      }
    },
    {
      "cell_type": "code",
      "source": [
        "save_folder = '/content/drive/MyDrive/DeepLearning/'\n",
        "model_att.save_weights(save_folder + 'infix_to_postfix_e32u28_francesco_giordani.weights.h5')\n",
        "print(f\"Weights saved to:\\n  {save_folder}infix_to_postfix_e32u28_francesco_giordani.weights.h5\")\n"
      ],
      "metadata": {
        "id": "eaIyRybneCUJ",
        "colab": {
          "base_uri": "https://localhost:8080/"
        },
        "outputId": "db8c576b-00be-4f12-8107-76952b79aebd"
      },
      "execution_count": null,
      "outputs": [
        {
          "output_type": "stream",
          "name": "stdout",
          "text": [
            "Weights saved to:\n",
            "  /content/drive/MyDrive/DeepLearning/infix_to_postfix_e32u28_francesco_giordani.weights.h5\n"
          ]
        }
      ]
    },
    {
      "cell_type": "markdown",
      "source": [
        "# Download with gdown of model weights for evaluation\n"
      ],
      "metadata": {
        "id": "OTMdVPcGehae"
      }
    },
    {
      "cell_type": "markdown",
      "source": [
        "**This section can be used by the professor to test the performance obtained.**"
      ],
      "metadata": {
        "id": "-sSnyl7YxbgS"
      }
    },
    {
      "cell_type": "markdown",
      "source": [
        "Mount the drive."
      ],
      "metadata": {
        "id": "HZ78_vdreqEi"
      }
    },
    {
      "cell_type": "code",
      "source": [
        "from google.colab import drive\n",
        "drive.mount('/content/drive')"
      ],
      "metadata": {
        "colab": {
          "base_uri": "https://localhost:8080/"
        },
        "id": "89PJZLwx9Yq4",
        "outputId": "82ef44bd-1396-4476-cd73-6bc2dc21e926"
      },
      "execution_count": 8,
      "outputs": [
        {
          "output_type": "stream",
          "name": "stdout",
          "text": [
            "Mounted at /content/drive\n"
          ]
        }
      ]
    },
    {
      "cell_type": "markdown",
      "source": [
        "Use gdown to download the weights.\n",
        "\n",
        "To run this cell you should have **run** before the **cells above** in the notebook, **except** the following sections:\n",
        "- Training phase\n",
        "- Saving weights of the model on drive\n",
        "\n",
        "You have also to **decide** your own **download_path**!"
      ],
      "metadata": {
        "id": "Ei5cdmBIew6c"
      }
    },
    {
      "cell_type": "code",
      "source": [
        "!pip install --quiet gdown\n",
        "\n",
        "import os\n",
        "import gdown\n",
        "\n",
        "DRIVE_FILE_ID = \"1eYitz-OYAEBcyfWs6wqomefJnmIOfF1d\"\n",
        "\n",
        "# Choose your own download path\n",
        "download_path = '/content/drive/MyDrive/DeepLearning/download/'\n",
        "\n",
        "LOCAL_WEIGHTS_FILENAME = download_path+\"infix_to_postfix_e32u28_francesco_giordani.weights.h5\"\n",
        "\n",
        "gdown.download(f\"https://drive.google.com/uc?id={DRIVE_FILE_ID}\", LOCAL_WEIGHTS_FILENAME, quiet=False)\n",
        "\n",
        "model_att.load_weights(LOCAL_WEIGHTS_FILENAME)\n",
        "print(\"model_att weights loaded.\")"
      ],
      "metadata": {
        "colab": {
          "base_uri": "https://localhost:8080/"
        },
        "id": "CbY01Erl_MVY",
        "outputId": "b4425c56-c597-4a5e-9caf-f9acd5858e6b"
      },
      "execution_count": 9,
      "outputs": [
        {
          "output_type": "stream",
          "name": "stderr",
          "text": [
            "Downloading...\n",
            "From: https://drive.google.com/uc?id=1eYitz-OYAEBcyfWs6wqomefJnmIOfF1d\n",
            "To: /content/drive/MyDrive/DeepLearning/download/infix_to_postfix_e32u28_francesco_giordani.weights.h5\n",
            "100%|██████████| 189k/189k [00:00<00:00, 44.6MB/s]"
          ]
        },
        {
          "output_type": "stream",
          "name": "stdout",
          "text": [
            "model_att weights loaded.\n"
          ]
        },
        {
          "output_type": "stream",
          "name": "stderr",
          "text": [
            "\n",
            "/usr/local/lib/python3.11/dist-packages/keras/src/saving/saving_lib.py:757: UserWarning: Skipping variable loading for optimizer 'adam', because it has 2 variables whereas the saved optimizer has 22 variables. \n",
            "  saveable.load_own_variables(weights_store.get(inner_path))\n"
          ]
        }
      ]
    },
    {
      "cell_type": "markdown",
      "source": [
        "Test the model with the loaded weights"
      ],
      "metadata": {
        "id": "MEct16Pne_mo"
      }
    },
    {
      "cell_type": "code",
      "source": [
        "res, std = test(20,10)\n",
        "print(\"score=\",res,\"std=\",std)"
      ],
      "metadata": {
        "id": "0JnmRKK__Vh6",
        "colab": {
          "base_uri": "https://localhost:8080/"
        },
        "outputId": "a4815018-7a2d-41e2-9e25-6e581e928f66"
      },
      "execution_count": null,
      "outputs": [
        {
          "output_type": "stream",
          "name": "stdout",
          "text": [
            "round= 0\n",
            "round= 1\n",
            "round= 2\n",
            "round= 3\n",
            "round= 4\n",
            "round= 5\n",
            "round= 6\n",
            "round= 7\n",
            "round= 8\n",
            "round= 9\n",
            "score= 1.0 std= 0.0\n"
          ]
        }
      ]
    },
    {
      "cell_type": "markdown",
      "source": [
        "# Conclusions"
      ],
      "metadata": {
        "id": "4rlRsVV5yu-i"
      }
    },
    {
      "cell_type": "markdown",
      "source": [
        "In line with Occam's razor concept, we have shown that a simple, well-structured model can achieve high accuracy without relying on complex training recipes. When the task and data allow, simplicity is not just sufficient, but optimal."
      ],
      "metadata": {
        "id": "Hj2irWPlyzej"
      }
    }
  ],
  "metadata": {
    "colab": {
      "machine_shape": "hm",
      "provenance": [],
      "toc_visible": true
    },
    "kernelspec": {
      "display_name": "Python 3",
      "name": "python3"
    },
    "language_info": {
      "name": "python"
    }
  },
  "nbformat": 4,
  "nbformat_minor": 0
}